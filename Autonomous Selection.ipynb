{
 "cells": [
  {
   "cell_type": "code",
   "execution_count": 118,
   "metadata": {},
   "outputs": [],
   "source": [
    "from nltk.tokenize import word_tokenize\n",
    "from nltk.corpus import wordnet\n",
    "from nltk.corpus import stopwords\n",
    "from nltk.stem import WordNetLemmatizer"
   ]
  },
  {
   "cell_type": "code",
   "execution_count": 119,
   "metadata": {},
   "outputs": [],
   "source": [
    "def preprocess(list):\n",
    "    list = word_tokenize(list)\n",
    "    list = set(list)\n",
    "    list = [word for word in list if word not in stopwords.words('english')]\n",
    "    not_words = ['.', ',', '(', ')', '[', '[', '&', '_', \"-\", ':', '@', ';']\n",
    "    list = [word for word in list if word not in not_words]\n",
    "    wordnet = WordNetLemmatizer()\n",
    "    list = [wordnet.lemmatize(word) for word in list]\n",
    "    return list"
   ]
  },
  {
   "cell_type": "code",
   "execution_count": 120,
   "metadata": {},
   "outputs": [
    {
     "name": "stdout",
     "output_type": "stream",
     "text": [
      "job brief\n",
      "we are looking for a java developer with experience in building high-performing, scalable, enterprise-grade applications.\n",
      "\n",
      "you will be part of a talented software team that works on mission-critical applications. java developer roles and responsibilities include managing java/java ee application development while providing expertise in the full software development lifecycle, from concept and design to testing.\n",
      "\n",
      "java developer responsibilities include designing, developing and delivering high-volume, low-latency applications for mission-critical systems.\n",
      "\n",
      "responsibilities\n",
      "contribute in all phases of the development lifecycle\n",
      "write well designed, testable, efficient code\n",
      "ensure designs are in compliance with specifications\n",
      "prepare and produce releases of software components\n",
      "support continuous improvement by investigating alternatives and technologies and presenting these for architectural review\n",
      "requirements\n",
      "bs/ms degree in computer science, engineering or a related subject\n",
      "proven hands-on software development experience\n",
      "proven working experience in java development\n",
      "hands on experience in designing and developing applications using java ee platforms\n",
      "object oriented analysis and design using common design patterns.\n",
      "profound insight of java and jee internals (classloading, memory management, transaction management etc)\n",
      "excellent knowledge of relational databases, sql and orm technologies (jpa2, hibernate)\n",
      "experience in the spring framework\n",
      "experience as a sun certified java developer\n",
      "experience in developing web applications using at least one popular web framework (jsf, wicket, gwt, spring mvc)\n",
      "experience with test-driven development\n"
     ]
    }
   ],
   "source": [
    "jd = open(\"JD.txt\", \"r\")\n",
    "jd = jd.read()\n",
    "jd = jd.lower()\n",
    "print(jd)"
   ]
  },
  {
   "cell_type": "code",
   "execution_count": 121,
   "metadata": {},
   "outputs": [
    {
     "name": "stdout",
     "output_type": "stream",
     "text": [
      "emily michaels\n",
      "25 surrey lane, atlanta, ga 11111\n",
      "\n",
      "e: emichaels@anymail p: 555-437-2891\n",
      "\n",
      "professional summary\n",
      "analytical and detail oriented android app developer professional with stellar communication skills. adept at bringing all team members together to reach a common goal on time and under budget. conceptualizing app solutions with the latest technology, design theory, and a large dose of creativity. committed to viable and easily functional app solutions for clients.\n",
      "\n",
      "skills\n",
      "expert at java sdk design functionality, including the full activity lifecycle\n",
      "clear and concise writer of communications and development documentation\n",
      "knowledgeable about back-end development and documentation\n",
      "enthusiastic facilitator for client solutions\n",
      "analytical user of git version control implementation\n",
      "consummate collaborator with clients, management, and team members\n",
      "work experience\n",
      "junior android developer2014 – present\n",
      "\n",
      "\n",
      "respond to client needs for applications with an eye to the most feasible and effective solutions.\n",
      "coordinate with team members to create client apps in a coordinated and timely manner.\n",
      "ensure that apps are tested to meet total performance requirements.\n",
      "optimize the interfacing of the apps with a variety of systems to ensure flexible and agile use.\n",
      "\n",
      "\n",
      "associate android developer2012 – 2014\n",
      "\n",
      "\n",
      "utilized advanced functions of the java software development kit (sdk) in order to optimize the flexibility of apps to different mobile devices.\n",
      "recorded exact details of errors during testing for further remediation.\n",
      "checked on all source code to ensure usability by development staff.\n",
      "created increased mobile adaptability for current apps in order to extend marketability.\n",
      "\n",
      "\n",
      "it support associate2011 – 2012\n",
      "\n",
      "provided phone support for employees who had trouble with their java software functions.\n",
      "retrieved system information for users.\n",
      "compiled a user-friendly employee guide for interfacing with java.\n",
      "\n",
      "\n",
      "internet fluency teacher2009-2011\n",
      "\n",
      "taught seniors to be fluent in using the internet through a community education program.\n",
      "interpreted curriculum to be presented to classes.\n",
      "generated student enthusiasm for internet use.\n",
      "\n",
      "education\n",
      "certified associate android developer2012\n",
      "bachelor of science in computer science2011\n",
      "georgia institute of technology\n",
      "hobbies and interests\n",
      "i like to use my app development skills for good causes. recently, i developed the entire donation pickup app for the bikes for kids charity. to stay active, i enjoy jogging in the fall and winter, and kayaking and paddle boarding during the summertime. i also enjoy dogs, so i volunteer twice a year as a foster home for dogs awaiting adoption. during the three-month commitment, i teach the dogs social skills, how to walk on a leash, and how to adapt to a home routine.\n"
     ]
    }
   ],
   "source": [
    "cv = open(\"CV2.txt\", \"r\")\n",
    "cv = cv.read()\n",
    "cv = cv.lower()\n",
    "print(cv)"
   ]
  },
  {
   "cell_type": "code",
   "execution_count": 122,
   "metadata": {},
   "outputs": [
    {
     "name": "stdout",
     "output_type": "stream",
     "text": [
      "['high-performing', 'system', 'testable', 'certified', 'part', 'scalable', 'platform', 'responsibility', 'knowledge', 'hands-on', 'sql', 'compliance', 'computer', 'full', 'review', 'orm', 'expertise', 'developing', 'profound', 'least', 'presenting', 'produce', 'gwt', 'related', 'memory', 'high-volume', 'concept', 'wicket', 'contribute', 'application', 'release', 'support', 'internals', 'subject', 'role', 'classloading', 'etc', 'popular', 'software', 'phase', 'pattern', 'looking', 'science', 'lifecycle', 'ee', 'code', 'alternative', 'relational', 'engineering', 'investigating', 'framework', 'building', 'proven', 'design', 'architectural', 'one', 'prepare', 'working', 'designing', 'insight', 'requirement', 'jpa2', 'providing', 'excellent', 'continuous', 'testing', 'hand', 'work', 'efficient', 'design', 'hibernate', 'application', 'well', 'spring', 'common', 'jsf', 'oriented', 'write', 'brief', 'job', 'mvc', 'experience', 'test-driven', 'database', 'ensure', 'jee', 'using', 'management', 'java', 'enterprise-grade', 'include', 'component', 'mission-critical', 'designed', 'specification', 'web', 'degree', 'improvement', 'sun', 'low-latency', 'bs/ms', 'development', 'team', 'technology', 'analysis', 'transaction', 'object', 'talented', 'managing', 'delivering', 'java/java', 'developer']\n"
     ]
    }
   ],
   "source": [
    "jd = preprocess(jd)\n",
    "print(jd)"
   ]
  },
  {
   "cell_type": "code",
   "execution_count": 123,
   "metadata": {},
   "outputs": [],
   "source": [
    "cv = preprocess(cv)"
   ]
  },
  {
   "cell_type": "code",
   "execution_count": 116,
   "metadata": {},
   "outputs": [
    {
     "name": "stdout",
     "output_type": "stream",
     "text": [
      "['app', 'employee', 'system', 'control', 'summertime', 'interpreted', 'awaiting', 'different', 'certified', 'flexible', 'stay', 'exact', 'entire', 'developed', 'developer2014', 'bachelor', '2014', '2012', 'writer', 'active', 'reach', 'fluent', 'taught', 'walk', 'computer', 'full', 'bringing', '11111', 'guide', 'like', 'jogging', 'volunteer', 'compiled', 'generated', 'p', 'e', 'total', 'activity', 'coordinate', 'teacher2009-2011', 'senior', 'source', 'institute', 'information', 'also', 'georgia', 'adoption', 'emichaels', 'surrey', 'enthusiasm', 'expert', 'charity', 'social', 'consummate', 'support', 'version', 'conceptualizing', 'knowledgeable', 'tested', 'dose', 'error', 'theory', 'software', 'year', 'optimize', 'hobby', 'documentation', 'remediation', 'science', 'bike', 'winter', 'lifecycle', 'performance', 'boarding', 'code', 'phone', 'science2011', 'analytical', 'skill', 'current', 'device', 'home', 'fluency', 'three-month', 'design', 'coordinated', 'functionality', 'dog', 'emily', 'technology', 'anymail', '25', 'user', 'requirement', 'user', 'recorded', 'associate', 'manner', 'foster', 'feasible', 'android', 'created', 'education', 'collaborator', 'kid', 'adapt', 'clear', 'employee', 'enjoy', 'present', 'routine', 'testing', 'create', '555-437-2891', 'budget', 'stellar', 'developer2012', 'eye', 'system', 'trouble', 'flexibility', 'together', 'respond', 'use', 'adaptability', 'facilitator', 'agile', 'increased', 'meet', 'application', '–', 'communication', 'usability', 'lane', 'enthusiastic', 'checked', 'functional', 'paddle', 'advanced', 'student', 'user-friendly', 'curriculum', 'common', 'kit', 'solution', 'timely', 'oriented', 'member', 'committed', 'implementation', 'effective', 'experience', 'community', 'viable', 'commitment', 'marketability', 'mobile', 'presented', 'professional', 'good', 'concise', 'provided', 'leash', 'goal', 'latest', 'junior', 'ensure', 'interest', 'fall', 'recently', 'git', 'including', 'retrieved', 'summary', 'management', 'utilized', 'using', 'java', 'extend', 'donation', 'communication', 'time', 'pickup', 'easily', 'staff', 'program', 'back-end', 'teach', 'apps', 'cause', 'work', 'twice', 'ga', 'atlanta', 'detail', 'michael', 'order', 'adept', 'creativity', 'development', 'interfacing', 'variety', 'sdk', 'kayaking', 'team', 'client', 'need', 'client', 'class', 'function', 'associate2011', 'detail', 'large', 'developer', 'internet']\n"
     ]
    }
   ],
   "source": [
    "print(cv)"
   ]
  },
  {
   "cell_type": "code",
   "execution_count": 117,
   "metadata": {},
   "outputs": [
    {
     "name": "stdout",
     "output_type": "stream",
     "text": [
      "['high-performing', 'system', 'testable', 'certified', 'part', 'scalable', 'platform', 'responsibility', 'knowledge', 'hands-on', 'sql', 'compliance', 'computer', 'full', 'review', 'orm', 'expertise', 'developing', 'profound', 'least', 'presenting', 'produce', 'gwt', 'related', 'memory', 'high-volume', 'concept', 'wicket', 'contribute', 'application', 'release', 'support', 'internals', 'subject', 'role', 'classloading', 'etc', 'popular', 'software', 'phase', 'pattern', 'looking', 'science', 'lifecycle', 'ee', 'code', 'alternative', 'relational', 'engineering', 'investigating', 'framework', 'building', 'proven', 'design', 'architectural', 'one', 'prepare', 'working', 'designing', 'insight', 'requirement', 'jpa2', 'providing', 'excellent', 'continuous', 'testing', 'hand', 'work', 'efficient', 'design', 'hibernate', 'application', 'well', 'spring', 'common', 'jsf', 'oriented', 'write', 'brief', 'job', 'mvc', 'experience', 'test-driven', 'database', 'ensure', 'jee', 'using', 'management', 'java', 'enterprise-grade', 'include', 'component', 'mission-critical', 'designed', 'specification', 'web', 'degree', 'improvement', 'sun', 'low-latency', 'bs/ms', 'development', 'team', 'technology', 'analysis', 'transaction', 'object', 'talented', 'managing', 'delivering', 'java/java', 'developer']\n"
     ]
    }
   ],
   "source": [
    "print(jd)"
   ]
  },
  {
   "cell_type": "code",
   "execution_count": 107,
   "metadata": {},
   "outputs": [],
   "source": [
    "def synonyms(word):\n",
    "    synonyms = []\n",
    "    for syn in wordnet.synsets(word): \n",
    "        for l in syn.lemmas():\n",
    "            synonyms.append(l.name())\n",
    "        synonyms = set(synonyms)\n",
    "        return synonyms"
   ]
  },
  {
   "cell_type": "code",
   "execution_count": 125,
   "metadata": {},
   "outputs": [],
   "source": [
    "def match(jd, cv):\n",
    "    i = 0\n",
    "    for word in cv:\n",
    "        if word in jd:\n",
    "            i += 1\n",
    "            print(word)\n",
    "        elif word in [synonyms(wo) for wo in jd]:\n",
    "            i += 1\n",
    "            print(word)\n",
    "    return i/len(cv)"
   ]
  },
  {
   "cell_type": "code",
   "execution_count": 126,
   "metadata": {},
   "outputs": [
    {
     "name": "stdout",
     "output_type": "stream",
     "text": [
      "system\n",
      "certified\n",
      "computer\n",
      "full\n",
      "support\n",
      "software\n",
      "science\n",
      "lifecycle\n",
      "code\n",
      "design\n",
      "technology\n",
      "requirement\n",
      "testing\n",
      "system\n",
      "application\n",
      "common\n",
      "oriented\n",
      "experience\n",
      "ensure\n",
      "management\n",
      "using\n",
      "java\n",
      "work\n",
      "development\n",
      "team\n",
      "developer\n"
     ]
    },
    {
     "data": {
      "text/plain": [
       "0.12093023255813953"
      ]
     },
     "execution_count": 126,
     "metadata": {},
     "output_type": "execute_result"
    }
   ],
   "source": [
    "match(jd, cv)"
   ]
  },
  {
   "cell_type": "code",
   "execution_count": 124,
   "metadata": {},
   "outputs": [
    {
     "name": "stdout",
     "output_type": "stream",
     "text": [
      "Aman Garg\n",
      "Una, Himachal Pradesh\n",
      "aman@gamail.com\n",
      "Summary\n",
      "Skilled Java developer and team leader with diverse experience utilizing Java tools for client-server environments and fluid understanding of many programming languages including C, C++, JavaScript, XML, and HTML. Worked with a large team of GUI and Java developers to maintain and improve company projects. Assisted with disaster recovery environments for critical business applications. Received the Eclipse Award for Best Java Application ‘15.\n",
      "\n",
      "Education\n",
      "Westwood University, Masters in Computer Science Graduated -  May 2009\n",
      "Clearwater University, Bachelor’s of Science in Computer Science Graduated -  May 2007\n",
      "Employment History\n",
      "Northern, Inc.\n",
      "Core Java Developer   January 2015 - Present\n",
      "Analysis of user requirements, create and modify block diagrams and logic flowcharts\n",
      "Oversee architectural development and software activities\n",
      "Assisted with detailed technical designs to develop project-specific programs\n",
      "Strong debugging skills, creative preparation of user-level documentation\n",
      "Expertise in Core Java Technologies, SDLC (Software Development Life Cycle), and design and development of web-based application\n",
      "Detailed hands on experience with scripting languages such as Linux and Unix\n",
      "Integrated and modified software systems according to the end user specifications\n",
      "Western LTD\n",
      "Java Developer   June 2009 - January 2015\n",
      "Development of applications and software to increase department efficiency\n",
      "Efficiently worked within team from scratching to development of company specific software\n",
      "Diagnose and correct errors within code to allow for utilization of applications and allow for connections\n",
      "Provide a high level of customer support to remote clients using a support e-ticketing system\n",
      "Experience with streamlining SQL query generation and data modeling\n",
      "Hobbies & Interests\n",
      "Volunteer at local sporting arena\n",
      "Teach windows and MS word for adult community classes\n",
      "Participate in Big Brother program at local YMCA\n",
      "Member of bowling league\n",
      "Volunteer to work local Comic-Con event\n",
      "Professional Skills\n",
      "HTML, CSS, Javascript and JQuery, JSP/Servlets and Struts/Spring\tExpert\n",
      "Effective multi-tasker with outstanding organizational and customer service skills\tExpert\n",
      "Excellent team building skills, meeting preparation and organization\tExpert\n",
      "['developer', 'clearwater', 'scripting', 'system', 'develop', 'level', 'word', 'adult', 'outstanding', 'jsp/servlets', 'connection', 'inc.', 'web-based', 'maintain', 'efficiency', 'customer', 'sql', 'bachelor', 'streamlining', 'garg', 'technical', 'cycle', 'may', 'comic-con', 'computer', 'flowchart', 'expertise', 'generation', 'university', 'data', 'query', 'integrated', 'diagram', 'volunteer', 'm', 'bowling', 'e-ticketing', 'league', 'cs', 'language', 'worked', 'january', 'application', 'gamail.com', 'history', 'expert', 'support', '’', 'northern', 'error', 'software', 'master', 'june', 'hobby', 'science', 'documentation', 'business', 'end', 'organization', 'ltd', 'meeting', 'una', 'diverse', 'code', 'arena', 'gui', '‘', 'best', 'debugging', 'skill', 'utilization', 'core', 'logic', 'building', 'design', 'creative', 'architectural', 'within', 'linux', 'improve', 'received', 'understanding', 'award', 'organizational', 'brother', 'requirement', 'user', 'strong', 'life', 'struts/spring', 'himachal', 'increase', 'c++', 'modeling', 'javascript', '2007', 'recovery', 'preparation', 'excellent', 'education', 'scratching', 'westwood', 'employment', 'environment', 'present', 'skilled', 'create', 'hand', 'system', 'according', 'disaster', '2015', 'multi-tasker', 'activity', 'project-specific', 'design', 'company', 'program', 'provide', 'application', 'high', 'block', 'correct', 'programming', 'big', '2009', 'modify', 'allow', 'jquery', 'assisted', 'event', 'effective', 'experience', 'remote', 'service', 'community', 'professional', 'graduated', 'diagnose', 'interest', 'member', 'html', 'including', 'using', 'summary', 'local', 'window', 'java', 'client-server', 'project', 'utilizing', 'specification', 'oversee', 'many', 'unix', 'tool', 'program', 'teach', 'ymca', 'pradesh', 'modified', 'work', 'critical', 'eclipse', 'sdlc', 'western', 'specific', 'leader', 'user-level', 'sporting', 'development', 'efficiently', 'detailed', 'team', 'xml', 'technology', 'analysis', 'developer', 'participate', 'c', 'client', 'class', 'fluid', 'department', 'large', '15', 'aman']\n"
     ]
    }
   ],
   "source": [
    "cv2 = open(\"CV.txt\", \"r\")\n",
    "cv2 = cv2.read()\n",
    "print(cv2)\n",
    "cv2 = cv2.lower()\n",
    "cv2 = preprocess(cv2)\n",
    "print(cv2)"
   ]
  },
  {
   "cell_type": "code",
   "execution_count": 127,
   "metadata": {},
   "outputs": [
    {
     "name": "stdout",
     "output_type": "stream",
     "text": [
      "developer\n",
      "system\n",
      "sql\n",
      "computer\n",
      "expertise\n",
      "application\n",
      "support\n",
      "software\n",
      "science\n",
      "code\n",
      "building\n",
      "design\n",
      "architectural\n",
      "requirement\n",
      "excellent\n",
      "hand\n",
      "system\n",
      "design\n",
      "application\n",
      "experience\n",
      "using\n",
      "java\n",
      "specification\n",
      "work\n",
      "development\n",
      "team\n",
      "technology\n",
      "analysis\n",
      "developer\n"
     ]
    },
    {
     "data": {
      "text/plain": [
       "0.15508021390374332"
      ]
     },
     "execution_count": 127,
     "metadata": {},
     "output_type": "execute_result"
    }
   ],
   "source": [
    "match(jd, cv2)"
   ]
  },
  {
   "cell_type": "code",
   "execution_count": null,
   "metadata": {},
   "outputs": [],
   "source": []
  }
 ],
 "metadata": {
  "kernelspec": {
   "display_name": "Python 3",
   "language": "python",
   "name": "python3"
  },
  "language_info": {
   "codemirror_mode": {
    "name": "ipython",
    "version": 3
   },
   "file_extension": ".py",
   "mimetype": "text/x-python",
   "name": "python",
   "nbconvert_exporter": "python",
   "pygments_lexer": "ipython3",
   "version": "3.7.3"
  }
 },
 "nbformat": 4,
 "nbformat_minor": 2
}
